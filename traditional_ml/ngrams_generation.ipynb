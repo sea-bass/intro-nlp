{
 "cells": [
  {
   "cell_type": "markdown",
   "metadata": {},
   "source": [
    "# Text Generations Using n-grams\n",
    "\n",
    "Based on the example https://stackabuse.com/python-for-nlp-developing-an-automatic-text-filler-using-n-grams/\n"
   ]
  },
  {
   "cell_type": "code",
   "execution_count": 259,
   "metadata": {
    "tags": []
   },
   "outputs": [],
   "source": [
    "import re\n",
    "import nltk\n",
    "import numpy as np\n",
    "import random\n",
    "import string\n",
    "import bs4 as bs\n",
    "import urllib.request"
   ]
  },
  {
   "cell_type": "code",
   "execution_count": 260,
   "metadata": {
    "tags": []
   },
   "outputs": [
    {
     "output_type": "stream",
     "name": "stdout",
     "text": "Total number of words: 22415\n\na robot is a machineespecially one programmable by a computer capable of carrying out a complex series of actions automatically  robots can be guided by an external control device or the control may be embedded within  robots may be constructed on the lines of human form, but most robots are machines designed to perform a task with no regard to their aesthetics robots can be autonomous or semiautonomous and range from humanoids such as hondas advanced step in innovative mobility asimo and tosys tosy ping pong playing robot topio to industrial robots, medical operating robots, patient assist robots, dog therapy robots, collectively programmed swarm robots, uav drones such as general atomics mq predator, and even microscopic nano robots  by mimicking a lifelike appearance or automating movements, a robot may convey a sense of intelligence or thought of its own  autonomous things are expected to proliferate in the coming decade, with home robotics and the autonomous car as some of the mai\n"
    }
   ],
   "source": [
    "# Read a Wikipedia page and combine all the paragraphs' text\n",
    "articles = [\"Robot\", \"Robotics\", \"History_of_robots\"]\n",
    "article_text = \"\"\n",
    "for article_name in articles:\n",
    "    raw_html = urllib.request.urlopen(\"https://en.wikipedia.org/wiki/\" + article_name)\n",
    "    raw_html = raw_html.read()\n",
    "    article_html = bs.BeautifulSoup(raw_html, \"lxml\")\n",
    "    article_paragraphs = article_html.find_all(\"p\")\n",
    "    for para in article_paragraphs:\n",
    "        article_text += para.text\n",
    "\n",
    "# Convert all text to lower case and remove anything besides alphanumerics, some punctuation, and space\n",
    "article_text = article_text.lower()\n",
    "article_text = re.sub(r\"[^A-Za-z., ]\", \"\", article_text)\n",
    "article_text = re.sub(r\"(?P<n1>[A-Za-z ])[.](?P<n2>[A-za-z ])\", \"\\g<n1> \\g<n2>\", article_text)\n",
    "\n",
    "# Print the first few words\n",
    "num_words = len(nltk.word_tokenize(article_text))\n",
    "print(\"Total number of words: {}\\n\".format(num_words))\n",
    "print(article_text[:1000])"
   ]
  },
  {
   "cell_type": "code",
   "execution_count": 261,
   "metadata": {
    "tags": []
   },
   "outputs": [
    {
     "output_type": "stream",
     "name": "stdout",
     "text": "regular worker could: ['program']\nactuator forces necessary: ['to']\ntohoku gakuin universitys: ['ballip']\nbuild friendly ai: [',']\nimage sensors even: ['require']\nthe construction of: ['mechanical', 'such', 'humanoid', 'a']\nexploration , surgery: [',', ',', ',']\nhumans and robots: ['a', 'robotic']\ninternational federation of: ['robotics', 'robotics']\nrobotics focuses not: ['on', 'on']\nthe first humanoid: ['robots', 'robots', 'robot']\na small number: ['of', 'of', 'of', 'of']\nhave been used: ['for', 'in', 'to']\n, as well: ['as', 'as', 'as', 'as', 'as', 'as', 'as', 'as']\nconsumer and industrial: ['goods', 'goods', 'goods']\n"
    }
   ],
   "source": [
    "# Word n-grams\n",
    "def get_training_ngrams(text, N):\n",
    "    ngrams = {}\n",
    "    words_tokens = nltk.word_tokenize(text)\n",
    "    for i in range(len(words_tokens)-N):\n",
    "        seq = \" \".join(words_tokens[i:i+N])\n",
    "        if seq not in ngrams.keys():\n",
    "            ngrams[seq] = []\n",
    "        ngrams[seq].append(words_tokens[i+N])\n",
    "    return ngrams\n",
    "\n",
    "# Gather n-grams plus the next possible words for completion\n",
    "N = 3\n",
    "ngrams = get_training_ngrams(article_text, N)\n",
    "\n",
    "# Print some random n-grams that have at least 1, 2, and 3 completions\n",
    "num_samples = 5\n",
    "generated_keys = 5\n",
    "for num_completions in range(3):\n",
    "    generated_keys = 0\n",
    "    while generated_keys < num_samples:\n",
    "        key = random.choice(list(ngrams.keys()))\n",
    "        if len(ngrams[key]) > num_completions:\n",
    "            print(\"{}: {}\".format(key, ngrams[key]))\n",
    "            generated_keys += 1"
   ]
  },
  {
   "cell_type": "code",
   "execution_count": 262,
   "metadata": {
    "tags": []
   },
   "outputs": [
    {
     "output_type": "stream",
     "name": "stdout",
     "text": "3-grams:\nrobotics is a rapidly growing field , as technological advances continue researching , designing , and building new robots serve various practical purposes , whether domestically , commercially , or militarily many robots are designed to solve a number of robots , based on the tablet when the robot is equipped with solar panels , the robot could move its hands and head and could be controlled through remote control or voice control both eric and his brother george toured the world westinghouse electric corporation built televox in it was a cardboard cutout connected to various devices which users could turn on and\n"
    }
   ],
   "source": [
    "# Predict\n",
    "def generate_sequence(start, ngrams, num_words):\n",
    "    curr_sequence = start.lower()\n",
    "    output = curr_sequence\n",
    "    N = len(list(ngrams.keys())[0].split(\" \"))\n",
    "    for i in range(num_words):\n",
    "        if curr_sequence not in ngrams.keys():\n",
    "            break\n",
    "        possible_words = ngrams[curr_sequence]\n",
    "        next_word = random.choice(possible_words)\n",
    "        output += \" \" + next_word\n",
    "        seq_words = nltk.word_tokenize(output)\n",
    "        curr_sequence = \" \".join(seq_words[len(seq_words)-N:len(seq_words)])\n",
    "    return output\n",
    "\n",
    "start_text = \"Robotics is a\"\n",
    "num_words = 100\n",
    "gen_output = generate_sequence(start_text, ngrams, num_words)\n",
    "\n",
    "print(\"{}-grams:\".format(N))\n",
    "print(gen_output)"
   ]
  },
  {
   "cell_type": "code",
   "execution_count": 263,
   "metadata": {
    "tags": []
   },
   "outputs": [
    {
     "output_type": "stream",
     "name": "stdout",
     "text": "4-grams:\nmany types of robots they are used in many different environments and for many different uses although being very diverse in application and form , they all share three basic similarities when it comes to their constructionas more and more robots are designed for specific tasks this method of classification becomes more relevant for example , many robots are designed for specific tasks this method of classification becomes more relevant for example , many robots are designed for assembly work , which may not be readily adaptable for other applications they are termed as assembly robots for seam welding , some suppliers provide complete\n"
    }
   ],
   "source": [
    "# Now try with other models\n",
    "N = 4\n",
    "num_words = 100\n",
    "start_text = \"Many types of robots\"\n",
    "ngrams = get_training_ngrams(article_text, N)\n",
    "gen_output = generate_sequence(start_text, ngrams, num_words)\n",
    "print(\"{}-grams:\".format(N))\n",
    "print(gen_output)"
   ]
  },
  {
   "cell_type": "code",
   "execution_count": 264,
   "metadata": {
    "tags": []
   },
   "outputs": [
    {
     "output_type": "stream",
     "name": "stdout",
     "text": "5-grams:\nrobots need to manipulate objects pick up , modify , destroy , or otherwise have an effect thus the functional end of a robot arm intended to make the effect whether a hand , or tool are often referred to as end effectors , while the arm is referred to as a manipulator most robot arms have replaceable endeffectors , each allowing them to perform some small range of tasks some have a fixed manipulator which can not be replaced , while a few have one very general purpose manipulator , for example , a humanoid hand one of the most common type of end\n"
    }
   ],
   "source": [
    "# 5-grams\n",
    "N = 5\n",
    "num_words = 100\n",
    "start_text = \"Robots need to manipulate objects\"\n",
    "ngrams = get_training_ngrams(article_text, N)\n",
    "gen_output = generate_sequence(start_text, ngrams, num_words)\n",
    "print(\"{}-grams:\".format(N))\n",
    "print(gen_output)"
   ]
  },
  {
   "cell_type": "code",
   "execution_count": null,
   "metadata": {},
   "outputs": [],
   "source": []
  }
 ],
 "metadata": {
  "language_info": {
   "codemirror_mode": {
    "name": "ipython",
    "version": 3
   },
   "file_extension": ".py",
   "mimetype": "text/x-python",
   "name": "python",
   "nbconvert_exporter": "python",
   "pygments_lexer": "ipython3",
   "version": "3.6.10-final"
  },
  "orig_nbformat": 2,
  "kernelspec": {
   "name": "python361064bitintronlpconda61e1afdce515499c9770b8779f7d77e0",
   "display_name": "Python 3.6.10 64-bit ('intro-nlp': conda)"
  }
 },
 "nbformat": 4,
 "nbformat_minor": 2
}