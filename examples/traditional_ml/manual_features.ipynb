{
 "cells": [
  {
   "cell_type": "markdown",
   "metadata": {},
   "source": [
    "# Text Classification Using Manual Features and Traditional Machine Learning Models\n",
    "In this example, we will classify words by manually extracting features from the words -- namely the first and last character of the word -- and then training a classifier using machine learning.\n",
    "\n",
    "This example is based on [Chapter 6 of the NLTK book -- Learning to Classify Text](https://www.nltk.org/book/ch06.html)."
   ]
  },
  {
   "cell_type": "code",
   "execution_count": 1,
   "metadata": {},
   "outputs": [],
   "source": [
    "import nltk\n",
    "import sklearn\n",
    "import random\n",
    "import numpy as np\n",
    "import matplotlib.pyplot as plt\n",
    "\n",
    "# Fix the random seed for reproducibility\n",
    "random.seed(0)\n",
    "np.random.seed(0)"
   ]
  },
  {
   "cell_type": "markdown",
   "metadata": {},
   "source": [
    "## Load the data\n",
    "First, we will load the [Names corpus](https://www.kaggle.com/nltkdata/names) in NLTK. Then, we prepare the training data by tagging the names as male vs. female and shuffling the data."
   ]
  },
  {
   "cell_type": "code",
   "execution_count": 2,
   "metadata": {
    "tags": []
   },
   "outputs": [
    {
     "name": "stdout",
     "output_type": "stream",
     "text": [
      "Total number of names: 7944\n",
      "(2943 male, 5001 female)\n",
      "\n",
      "Sample names:\n",
      "('Lissie', 'female')\n",
      "('Danya', 'female')\n",
      "('Welby', 'male')\n",
      "('Antone', 'male')\n",
      "('Bert', 'female')\n",
      "('Erek', 'male')\n",
      "('Gayleen', 'female')\n",
      "('Rory', 'female')\n",
      "('Donelle', 'female')\n",
      "('Felicle', 'female')\n"
     ]
    },
    {
     "name": "stderr",
     "output_type": "stream",
     "text": [
      "[nltk_data] Downloading package names to /home/sebastian/nltk_data...\n",
      "[nltk_data]   Package names is already up-to-date!\n"
     ]
    }
   ],
   "source": [
    "# Load the data\n",
    "from nltk.corpus import names\n",
    "nltk.download(\"names\") # Only need to run this once\n",
    "\n",
    "# Annotate the data based on the text file they come from (male vs. female)\n",
    "male_labeled_names = [(name, \"male\") for name in names.words(\"male.txt\")]\n",
    "female_labeled_names = [(name, \"female\") for name in names.words(\"female.txt\")]\n",
    "labeled_names = (male_labeled_names + female_labeled_names)\n",
    "\n",
    "# Shuffle the data\n",
    "random.shuffle(labeled_names)\n",
    "\n",
    "num_male = len(male_labeled_names)\n",
    "num_female = len(female_labeled_names)\n",
    "num_total = num_male + num_female\n",
    "print(\"Total number of names: {}\\n({} male, {} female)\".format(\n",
    "    num_total, num_male, num_female))\n",
    "print(\"\\nSample names:\")\n",
    "for i in range(10):\n",
    "    print(labeled_names[i])"
   ]
  },
  {
   "cell_type": "markdown",
   "metadata": {},
   "source": [
    "## Extract Features from the Text\n",
    "\n",
    "These will be manually extracted features. We'll use the first and last letter of each name, but you should feel free to modify these and see if you can get better accuracy."
   ]
  },
  {
   "cell_type": "code",
   "execution_count": 3,
   "metadata": {
    "tags": []
   },
   "outputs": [
    {
     "name": "stdout",
     "output_type": "stream",
     "text": [
      "({'first_letter': 'l', 'last_letter': 'e'}, 'female')\n",
      "({'first_letter': 'd', 'last_letter': 'a'}, 'female')\n",
      "({'first_letter': 'w', 'last_letter': 'y'}, 'male')\n",
      "({'first_letter': 'a', 'last_letter': 'e'}, 'male')\n",
      "({'first_letter': 'b', 'last_letter': 't'}, 'female')\n",
      "({'first_letter': 'e', 'last_letter': 'k'}, 'male')\n",
      "({'first_letter': 'g', 'last_letter': 'n'}, 'female')\n",
      "({'first_letter': 'r', 'last_letter': 'y'}, 'female')\n",
      "({'first_letter': 'd', 'last_letter': 'e'}, 'female')\n",
      "({'first_letter': 'f', 'last_letter': 'e'}, 'female')\n"
     ]
    }
   ],
   "source": [
    "def gender_features(name):\n",
    "    \"\"\" Extracts features from the word \"\"\"\n",
    "    features = {}\n",
    "    features[\"first_letter\"] = name[0].lower()\n",
    "    features[\"last_letter\"] = name[-1].lower()\n",
    "    return features\n",
    "\n",
    "labeled_features = [(gender_features(n), name) for (n, name) in labeled_names]\n",
    "\n",
    "for i in range(10):\n",
    "    print(labeled_features[i])"
   ]
  },
  {
   "cell_type": "markdown",
   "metadata": {},
   "source": [
    "## Encode the Features for a Statistical Classifier\n",
    "The characters `a` through `z` need to be converted to a numeric representation before passing them into a classifier. Since there are only 26 characters, we can use a one-hot encoder to map the characters.\n",
    "\n",
    "As you can see below, the one-hot encoded feature vector has dimension of 52 -- 26 for the first character and another 26 for the last character.\n",
    "\n",
    "The labels are binary: we can simply encode them as 0 for male, 1 for female."
   ]
  },
  {
   "cell_type": "code",
   "execution_count": 4,
   "metadata": {
    "tags": []
   },
   "outputs": [
    {
     "name": "stdout",
     "output_type": "stream",
     "text": [
      "Encoded one-hot features\n",
      "[[0. 0. 0. ... 0. 0. 0.]\n",
      " [0. 0. 0. ... 0. 0. 0.]\n",
      " [0. 0. 0. ... 0. 1. 0.]\n",
      " ...\n",
      " [0. 0. 0. ... 0. 0. 0.]\n",
      " [1. 0. 0. ... 0. 1. 0.]\n",
      " [0. 0. 0. ... 0. 0. 0.]]\n",
      "Shape: (7944, 52)\n",
      "\n",
      "Binary classification labels\n",
      "[1 1 0 ... 1 1 1]\n",
      "Shape: (7944,)\n"
     ]
    }
   ],
   "source": [
    "# Convert the features to one-hot vectors\n",
    "from sklearn.preprocessing import OneHotEncoder\n",
    "encoder = OneHotEncoder(sparse=False)\n",
    "X = [[f[key] for key in f] for (f, _) in labeled_features]\n",
    "X_encoded = encoder.fit_transform(X)\n",
    "\n",
    "# Labels are a binary output: 0 for male, 1 for female\n",
    "y = np.array([0 if gnd==\"male\" else 1 for (_, gnd) in labeled_features])\n",
    "names = [n for (n, _) in labeled_names]\n",
    "\n",
    "print(\"Encoded one-hot features\")\n",
    "print(X_encoded)\n",
    "print(\"Shape: {}\".format(X_encoded.shape))\n",
    "print(\"\")\n",
    "print(\"Binary classification labels\")\n",
    "print(y)\n",
    "print(\"Shape: {}\".format(y.shape))"
   ]
  },
  {
   "cell_type": "markdown",
   "metadata": {},
   "source": [
    "## Create, Train, and Evaluate a Naive Bayes Classifier\n",
    "Once have the data converted to numeric feature vectors and binary labels, we can use them in a classifier. \n",
    "\n",
    "For this example, we will use a [Naive Bayes classifier from scikit-learn](https://scikit-learn.org/stable/modules/naive_bayes.html) -- specifically the [categorical Naive Bayes classifier](https://scikit-learn.org/stable/modules/generated/sklearn.naive_bayes.CategoricalNB.html)."
   ]
  },
  {
   "cell_type": "code",
   "execution_count": 5,
   "metadata": {
    "tags": []
   },
   "outputs": [],
   "source": [
    "# Split the data into training and test sets. \n",
    "# Remember that the data was already shuffled, so we can just pick a cutoff index \n",
    "# where everything before is training data and everything after is test data.\n",
    "cutoff_idx = 5000\n",
    "X_train = X_encoded[:cutoff_idx]\n",
    "y_train = y[:cutoff_idx]\n",
    "names_train = names[:cutoff_idx]\n",
    "X_test  = X_encoded[cutoff_idx:]\n",
    "y_test  = y[cutoff_idx:]\n",
    "names_test  = names[cutoff_idx:]\n",
    "\n",
    "# Create and train a Categorical Naive Bayes classifier model\n",
    "from sklearn.naive_bayes import CategoricalNB\n",
    "use_prior = True\n",
    "model = CategoricalNB()\n",
    "model.fit(X_train, y_train)\n",
    "\n",
    "# Predict on the training and test sets\n",
    "y_pred_train = model.predict(X_train)\n",
    "y_pred_test = model.predict(X_test)"
   ]
  },
  {
   "cell_type": "markdown",
   "metadata": {},
   "source": [
    "## Evaluate the Model\n",
    "\n",
    "Below we will examine the training and test accuracy and plot the confusion matrix. \n",
    "\n",
    "The results show that more male names are misclassified as female names than the opposite; this is because there are more female samples than male samples in the training set. Further steps need to be taken to deal with this class imbalance."
   ]
  },
  {
   "cell_type": "code",
   "execution_count": 6,
   "metadata": {
    "tags": []
   },
   "outputs": [
    {
     "name": "stdout",
     "output_type": "stream",
     "text": [
      "Training Accuracy: 3908/5000 = 78.16%\n",
      "Test Accuracy: 2266/2944 = 76.97%\n"
     ]
    },
    {
     "data": {
      "image/png": "[encoded data removed]",
      "text/plain": [
       "<Figure size 432x288 with 2 Axes>"
      ]
     },
     "metadata": {
      "needs_background": "light"
     },
     "output_type": "display_data"
    },
    {
     "name": "stdout",
     "output_type": "stream",
     "text": [
      "\n",
      "Example predictions\n",
      "Name: Kimmi\tActual: female\tPredicted: female\n",
      "Name: Gustie\tActual: female\tPredicted: female\n",
      "Name: Wolf\tActual: male\tPredicted: male\n",
      "Name: Gardener\tActual: male\tPredicted: male\n",
      "Name: Chiarra\tActual: female\tPredicted: female\n",
      "Name: Verne\tActual: male\tPredicted: female\n",
      "Name: Kimberly\tActual: female\tPredicted: female\n",
      "Name: Aleta\tActual: female\tPredicted: female\n",
      "Name: Jenna\tActual: female\tPredicted: female\n",
      "Name: Damian\tActual: male\tPredicted: male\n"
     ]
    }
   ],
   "source": [
    "# Calculate accuracy\n",
    "num_train = len(y_train)\n",
    "num_correct_train = np.sum(y_train == y_pred_train) \n",
    "train_acc =  100 * num_correct_train / num_train\n",
    "print(\"Training Accuracy: {}/{} = {:.2f}%\".format(\n",
    "    num_correct_train, num_train, train_acc))\n",
    "num_test = len(y_test)\n",
    "num_correct_test = np.sum(y_test == y_pred_test) \n",
    "test_acc = 100 * num_correct_test / num_test\n",
    "print(\"Test Accuracy: {}/{} = {:.2f}%\".format(\n",
    "    num_correct_test, num_test, test_acc))\n",
    "\n",
    "# Plot the confusion matrix\n",
    "from sklearn.metrics import plot_confusion_matrix\n",
    "disp = plot_confusion_matrix(model, X_test, y_test,\n",
    "                             display_labels=[\"Male\",\"Female\"],\n",
    "                             cmap=plt.cm.Blues,\n",
    "                             normalize=\"true\")\n",
    "disp.ax_.set_title(\"Confusion Matrix\")\n",
    "plt.show()\n",
    "\n",
    "# Print a few examples\n",
    "print(\"\\nExample predictions\")\n",
    "for i in np.random.randint(len(y_test), size=10):\n",
    "    actual = \"male\" if y_test[i]==0 else \"female\"\n",
    "    pred = \"male\" if y_pred_test[i]==0 else \"female\" \n",
    "    print(\"Name: {}\\tActual: {}\\tPredicted: {}\".format(\n",
    "        names_test[i], actual, pred))"
   ]
  }
 ],
 "metadata": {
  "kernelspec": {
   "display_name": "Python 3.6.10 64-bit ('intro-nlp': conda)",
   "language": "python",
   "name": "python361064bitintronlpconda61e1afdce515499c9770b8779f7d77e0"
  },
  "language_info": {
   "codemirror_mode": {
    "name": "ipython",
    "version": 3
   },
   "file_extension": ".py",
   "mimetype": "text/x-python",
   "name": "python",
   "nbconvert_exporter": "python",
   "pygments_lexer": "ipython3",
   "version": "3.6.10"
  }
 },
 "nbformat": 4,
 "nbformat_minor": 2
}
