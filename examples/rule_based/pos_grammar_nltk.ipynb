{
 "cells": [
  {
   "cell_type": "markdown",
   "metadata": {},
   "source": [
    "# Text Processing with NLTK\n",
    "In this example we will explore some of the functionality in [Natural Language Toolkit (NLTK)](http://www.nltk.org/). NLTK is one of the most popular Python based tools to get started with NLP.\n",
    "\n",
    "There is also an entire [NLTK book](https://www.nltk.org/book/) with fantastic examples to help you explore the tools in much greater detail."
   ]
  },
  {
   "cell_type": "code",
   "execution_count": 1,
   "metadata": {
    "tags": []
   },
   "outputs": [
    {
     "name": "stderr",
     "output_type": "stream",
     "text": [
      "[nltk_data] Downloading package averaged_perceptron_tagger to\n",
      "[nltk_data]     /home/sebastian/nltk_data...\n",
      "[nltk_data]   Package averaged_perceptron_tagger is already up-to-\n",
      "[nltk_data]       date!\n"
     ]
    },
    {
     "data": {
      "text/plain": [
       "True"
      ]
     },
     "execution_count": 1,
     "metadata": {},
     "output_type": "execute_result"
    }
   ],
   "source": [
    "import nltk\n",
    "import IPython.core.display as disp\n",
    "\n",
    "# Run the following line the first time you run this script\n",
    "nltk.download(\"averaged_perceptron_tagger\")"
   ]
  },
  {
   "cell_type": "markdown",
   "metadata": {},
   "source": [
    "## Perform Part-of-Speech (POS) Tagging\n",
    "The first step is ironically not entire a rule-based approach. We will tokenize the sentence into its individual words and then perform part-of-speech tagging, which typically requires a model trained from data -- this makes sense, because figuring the out the part-of-speech of a word has more exceptions than rules, especially in a language as weird as English!"
   ]
  },
  {
   "cell_type": "code",
   "execution_count": 2,
   "metadata": {
    "tags": []
   },
   "outputs": [
    {
     "name": "stdout",
     "output_type": "stream",
     "text": [
      "Go over to the kitchen and find a big red apple.\n",
      "[('Go', 'VB'), ('over', 'IN'), ('to', 'TO'), ('the', 'DT'), ('kitchen', 'NN'), ('and', 'CC'), ('find', 'VB'), ('a', 'DT'), ('big', 'JJ'), ('red', 'JJ'), ('apple', 'NN'), ('.', '.')]\n"
     ]
    }
   ],
   "source": [
    "def tag_sentence(sentence):\n",
    "    tokenized = nltk.word_tokenize(sentence)\n",
    "    tagged = nltk.pos_tag(tokenized)\n",
    "    return tagged\n",
    "\n",
    "input_sentence = \"Go over to the kitchen and find a big red apple.\"\n",
    "print(input_sentence)\n",
    "\n",
    "tagged_sentence = tag_sentence(input_sentence)\n",
    "print(tagged_sentence)"
   ]
  },
  {
   "cell_type": "markdown",
   "metadata": {},
   "source": [
    "## Create a Grammar and Parse the Sentence\n",
    "Once we have a tokenized and tagged sentence, we can create a *grammar* of rules to help us *chunk* the sentence. In the example below, we create a simple grammar to extract Noun Phrases (NP) and Verb Phrases (VP) from a tagged sentence using a regular expression parser in NLTK.\n",
    "\n",
    "To explain the grammar a little more, we have used the following (imperfect and limited) definitions:\n",
    "\n",
    "* **Noun Phrase:** Any number of determinants -> Any number of adjectives -> Any number of nouns\n",
    "* **Verb Phrase:** A verb -> any number of (prepositions, the word \"to\", adverbs, or particles) -> A noun phrase\n",
    "\n",
    "Recall that the \\* character in regular expressions refers to zero or more matches, and the . character refers to any character (since there are many verb tags depending on conjugration)\n",
    "\n",
    "To understand what all these tags like `DT`, `JJ`, `NN`, etc. mean, refer to the [Penn Treebank list of tags](https://www.ling.upenn.edu/courses/Fall_2003/ling001/penn_treebank_pos.html)."
   ]
  },
  {
   "cell_type": "code",
   "execution_count": 3,
   "metadata": {
    "tags": []
   },
   "outputs": [
    {
     "name": "stdout",
     "output_type": "stream",
     "text": [
      "(S\n",
      "  (VP Go/VB over/IN to/TO (NP the/DT kitchen/NN))\n",
      "  and/CC\n",
      "  (VP find/VB (NP a/DT big/JJ red/JJ apple/NN))\n",
      "  ./.)\n"
     ]
    },
    {
     "data": {
      "image/png": "[encoded data removed]",
      "text/plain": [
       "Tree('S', [Tree('VP', [('Go', 'VB'), ('over', 'IN'), ('to', 'TO'), Tree('NP', [('the', 'DT'), ('kitchen', 'NN')])]), ('and', 'CC'), Tree('VP', [('find', 'VB'), Tree('NP', [('a', 'DT'), ('big', 'JJ'), ('red', 'JJ'), ('apple', 'NN')])]), ('.', '.')])"
      ]
     },
     "metadata": {},
     "output_type": "display_data"
    }
   ],
   "source": [
    "grammar = \"\"\"\n",
    "          NP: {<DT>* <JJ>* <NN>*}           # Noun phrase\n",
    "          VP: {<VB.*> <IN|TO|RB|RP>* <NP>}  # Verb phrase\n",
    "          \"\"\"\n",
    "chunk_parser = nltk.RegexpParser(grammar)\n",
    "\n",
    "input_sentence = \"Go over to the kitchen and find a big red apple.\"\n",
    "tagged_sentence = tag_sentence(input_sentence)\n",
    "tree = chunk_parser.parse(tagged_sentence)\n",
    "\n",
    "print(tree)\n",
    "disp.display(tree)"
   ]
  },
  {
   "cell_type": "markdown",
   "metadata": {},
   "source": [
    "## Extract information from the parse tree\n",
    "Once we have a parse tree with verb phrases and noun phrases, in theory this structure can make it easier to analyze complex sentences. For example, we could possibly infer the subject/object of a sentence, or resolve relations and references between named entities in a sentence. There is a whole field of problems with such sentences such as *Named Entity Recognition (NER)* and *Coreference Resolution*.\n",
    "\n",
    "In our example below, we can now break down sentences into multiple verb phrases. For each verb phrase, we can extract information such as the verb and first noun and possibly infer that the human is requesting a robot to take a specific action."
   ]
  },
  {
   "cell_type": "code",
   "execution_count": 4,
   "metadata": {
    "tags": []
   },
   "outputs": [
    {
     "name": "stdout",
     "output_type": "stream",
     "text": [
      "Input sentence:  Go over to the kitchen and find a big red apple.\n",
      "Actions:         ['Go', 'find']\n",
      "Targets:         ['kitchen', 'apple']\n"
     ]
    }
   ],
   "source": [
    "def extract_information(tree):\n",
    "    \"\"\" \n",
    "    Extracts information (actions and targets) from a tagged and chunked sentence\n",
    "    \"\"\"\n",
    "\n",
    "    actions = []\n",
    "    targets = []\n",
    "\n",
    "    # Loop through all the trees\n",
    "    for elem in tree:\n",
    "        action = None\n",
    "        target = None\n",
    "\n",
    "        # Get the label of the subtree or token\n",
    "        if isinstance(elem, nltk.tree.Tree):\n",
    "            label = elem.label()\n",
    "        elif isinstance(elem, tuple):\n",
    "            label = elem[1]\n",
    "\n",
    "        # Once a verb phrase is found, pick out the first verb\n",
    "        if label == \"VP\":\n",
    "            leaves = elem.leaves()\n",
    "            for (word, label) in leaves:\n",
    "                if \"VB\" in label and action is None:\n",
    "                    action = word\n",
    "                    break\n",
    "            \n",
    "            # Now find the first noun phrase and pick out the first noun\n",
    "            for st in elem.subtrees():\n",
    "                if st.label() == \"NP\":\n",
    "                    leaves = st.leaves()\n",
    "                    for (word, label) in leaves:\n",
    "                        if \"NN\" in label and target is None:\n",
    "                            target = word\n",
    "                            break\n",
    "        \n",
    "        # If an action and/or target is found, append it to the list\n",
    "        if action is not None or target is not None:\n",
    "            actions.append(action)\n",
    "            targets.append(target)\n",
    "\n",
    "    return actions, targets\n",
    "\n",
    "\n",
    "(actions, targets) = extract_information(tree)\n",
    "print(\"Input sentence:  {}\".format(input_sentence))\n",
    "print(\"Actions:         {}\".format(actions))\n",
    "print(\"Targets:         {}\".format(targets))"
   ]
  },
  {
   "cell_type": "markdown",
   "metadata": {},
   "source": [
    "## Test on Multiple Sentences\n",
    "Again, we should test our NLP pipeline on various types of sentences to see how robust our system is to the types of commands we may expect humans to give.\n",
    "\n",
    "We as developers have no way to limit the space of possible sentences a rule-based system can see out in the wild, which makes them brittle in the real world. This is one of many reasons that machine learning approaches are dominating NLP today. However, many complex systems can benefit from a combination of rule-based and statistical methods to combine their respective advantages."
   ]
  },
  {
   "cell_type": "code",
   "execution_count": 5,
   "metadata": {
    "tags": []
   },
   "outputs": [
    {
     "name": "stdout",
     "output_type": "stream",
     "text": [
      "Input sentence:  Go over to the kitchen and find a big red apple.\n"
     ]
    },
    {
     "data": {
      "image/png": "[encoded data removed]",
      "text/plain": [
       "Tree('S', [Tree('VP', [('Go', 'VB'), ('over', 'IN'), ('to', 'TO'), Tree('NP', [('the', 'DT'), ('kitchen', 'NN')])]), ('and', 'CC'), Tree('VP', [('find', 'VB'), Tree('NP', [('a', 'DT'), ('big', 'JJ'), ('red', 'JJ'), ('apple', 'NN')])]), ('.', '.')])"
      ]
     },
     "metadata": {},
     "output_type": "display_data"
    },
    {
     "name": "stdout",
     "output_type": "stream",
     "text": [
      "Actions:         ['Go', 'find']\n",
      "Targets:         ['kitchen', 'apple']\n",
      "\n",
      "Input sentence:  Open the refrigerator and grab a cold water bottle.\n"
     ]
    },
    {
     "data": {
      "image/png": "[encoded data removed]",
      "text/plain": [
       "Tree('S', [Tree('VP', [('Open', 'VB'), Tree('NP', [('the', 'DT'), ('refrigerator', 'NN')])]), ('and', 'CC'), Tree('VP', [('grab', 'VB'), Tree('NP', [('a', 'DT'), ('cold', 'JJ'), ('water', 'NN'), ('bottle', 'NN')])]), ('.', '.')])"
      ]
     },
     "metadata": {},
     "output_type": "display_data"
    },
    {
     "name": "stdout",
     "output_type": "stream",
     "text": [
      "Actions:         ['Open', 'grab']\n",
      "Targets:         ['refrigerator', 'water']\n",
      "\n",
      "Input sentence:  Proceed to the garage and empty out the trash.\n"
     ]
    },
    {
     "data": {
      "image/png": "[encoded data removed]",
      "text/plain": [
       "Tree('S', [Tree('VP', [('Proceed', 'VB'), ('to', 'TO'), Tree('NP', [('the', 'DT'), ('garage', 'NN')])]), ('and', 'CC'), Tree('VP', [('empty', 'VB'), ('out', 'RP'), Tree('NP', [('the', 'DT'), ('trash', 'NN')])]), ('.', '.')])"
      ]
     },
     "metadata": {},
     "output_type": "display_data"
    },
    {
     "name": "stdout",
     "output_type": "stream",
     "text": [
      "Actions:         ['Proceed', 'empty']\n",
      "Targets:         ['garage', 'trash']\n",
      "\n"
     ]
    }
   ],
   "source": [
    "input_doc = \"Go over to the kitchen and find a big red apple. \" \\\n",
    "            \"Open the refrigerator and grab a cold water bottle. \" \\\n",
    "            \"Proceed to the garage and empty out the trash.\"\n",
    "sentences = nltk.sent_tokenize(input_doc)\n",
    "\n",
    "for sent in sentences:\n",
    "    tagged_sentence = tag_sentence(sent)\n",
    "    tree = chunk_parser.parse(tagged_sentence)\n",
    "    (actions, targets) = extract_information(tree)\n",
    "    print(\"Input sentence:  {}\".format(sent))\n",
    "    disp.display(tree)\n",
    "    print(\"Actions:         {}\".format(actions))\n",
    "    print(\"Targets:         {}\".format(targets))\n",
    "    print(\"\")"
   ]
  }
 ],
 "metadata": {
  "kernelspec": {
   "display_name": "Python 3.6.10 64-bit ('intro-nlp': conda)",
   "language": "python",
   "name": "python361064bitintronlpconda61e1afdce515499c9770b8779f7d77e0"
  },
  "language_info": {
   "codemirror_mode": {
    "name": "ipython",
    "version": 3
   },
   "file_extension": ".py",
   "mimetype": "text/x-python",
   "name": "python",
   "nbconvert_exporter": "python",
   "pygments_lexer": "ipython3",
   "version": "3.6.10"
  }
 },
 "nbformat": 4,
 "nbformat_minor": 2
}
