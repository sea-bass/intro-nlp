{
 "cells": [
  {
   "cell_type": "markdown",
   "metadata": {},
   "source": [
    "# Sentence Processing with NLTK"
   ]
  },
  {
   "cell_type": "code",
   "execution_count": 23,
   "metadata": {
    "tags": []
   },
   "outputs": [
    {
     "output_type": "stream",
     "name": "stderr",
     "text": "[nltk_data] Downloading package averaged_perceptron_tagger to\n[nltk_data]     /home/sebastian/nltk_data...\n[nltk_data]   Package averaged_perceptron_tagger is already up-to-\n[nltk_data]       date!\n"
    },
    {
     "output_type": "execute_result",
     "data": {
      "text/plain": "True"
     },
     "metadata": {},
     "execution_count": 23
    }
   ],
   "source": [
    "import nltk\n",
    "import IPython.core.display as disp\n",
    "\n",
    "# Run the following line the first time you run this script\n",
    "nltk.download('averaged_perceptron_tagger')"
   ]
  },
  {
   "cell_type": "markdown",
   "metadata": {},
   "source": [
    "## Perform Part-of-Speech (POS) Tagging"
   ]
  },
  {
   "cell_type": "code",
   "execution_count": 59,
   "metadata": {
    "tags": []
   },
   "outputs": [
    {
     "output_type": "stream",
     "name": "stdout",
     "text": "[('Go', 'VB'), ('over', 'IN'), ('to', 'TO'), ('the', 'DT'), ('kitchen', 'NN'), ('and', 'CC'), ('find', 'VB'), ('a', 'DT'), ('big', 'JJ'), ('red', 'JJ'), ('apple', 'NN')]\n"
    }
   ],
   "source": [
    "def tag_sentence(sentence):\n",
    "    tokenized = nltk.word_tokenize(sentence)\n",
    "    tagged = nltk.pos_tag(tokenized)\n",
    "    return tagged\n",
    "\n",
    "input_sentence = \"Go over to the kitchen and find a big red apple\"\n",
    "tagged_sentence = tag_sentence(input_sentence)\n",
    "print(tagged_sentence)"
   ]
  },
  {
   "cell_type": "markdown",
   "metadata": {},
   "source": [
    "## Create a Grammar and Parse the Sentence"
   ]
  },
  {
   "cell_type": "code",
   "execution_count": 58,
   "metadata": {
    "tags": []
   },
   "outputs": [
    {
     "output_type": "stream",
     "name": "stdout",
     "text": "(S\n  (VP Go/VB over/IN to/TO (NP the/DT kitchen/NN))\n  and/CC\n  (VP find/VB (NP a/DT big/JJ red/JJ apple/NN)))\n"
    },
    {
     "output_type": "display_data",
     "data": {
      "text/plain": "Tree('S', [Tree('VP', [('Go', 'VB'), ('over', 'IN'), ('to', 'TO'), Tree('NP', [('the', 'DT'), ('kitchen', 'NN')])]), ('and', 'CC'), Tree('VP', [('find', 'VB'), Tree('NP', [('a', 'DT'), ('big', 'JJ'), ('red', 'JJ'), ('apple', 'NN')])])])",
      "image/png": "[encoded data removed]"
     },
     "metadata": {}
    }
   ],
   "source": [
    "grammar = \"\"\"\n",
    "          NP: {<DT>* <JJ>* <NN>*}           # Noun phrase\n",
    "          VP: {<V.*> <IN|TO|RB>* <NP|PP>*}  # Verb phrase\n",
    "          \"\"\"\n",
    "chunk_parser = nltk.RegexpParser(grammar)\n",
    "\n",
    "input_sentence = \"Go over to the kitchen and find a big red apple\"\n",
    "tagged_sentence = tag_sentence(input_sentence)\n",
    "tree = chunk_parser.parse(tagged_sentence)\n",
    "\n",
    "print(tree)\n",
    "disp.display(tree)"
   ]
  },
  {
   "cell_type": "markdown",
   "metadata": {},
   "source": [
    "## Extract information from the parse tree"
   ]
  },
  {
   "cell_type": "code",
   "execution_count": 53,
   "metadata": {},
   "outputs": [],
   "source": [
    "def extract_information(tree):\n",
    "\n",
    "    # TODO\n",
    "    # Loop through each verb phrase.\n",
    "    # For each verb phrase, use the verb as the action and the first noun in the noun phrase as the subject"
   ]
  },
  {
   "cell_type": "markdown",
   "metadata": {},
   "source": [
    "## Test on Multiple Sentences"
   ]
  },
  {
   "cell_type": "code",
   "execution_count": null,
   "metadata": {},
   "outputs": [],
   "source": []
  }
 ],
 "metadata": {
  "language_info": {
   "codemirror_mode": {
    "name": "ipython",
    "version": 3
   },
   "file_extension": ".py",
   "mimetype": "text/x-python",
   "name": "python",
   "nbconvert_exporter": "python",
   "pygments_lexer": "ipython3",
   "version": "3.6.10-final"
  },
  "orig_nbformat": 2,
  "kernelspec": {
   "name": "python361064bitintronlpconda61e1afdce515499c9770b8779f7d77e0",
   "display_name": "Python 3.6.10 64-bit ('intro-nlp': conda)"
  }
 },
 "nbformat": 4,
 "nbformat_minor": 2
}