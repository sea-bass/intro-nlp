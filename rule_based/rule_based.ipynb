{
 "cells": [
  {
   "cell_type": "markdown",
   "metadata": {},
   "source": [
    "# Introduction to NLP -- Rule-Based AI\n",
    "In this example, we look at basic natural language preprocessing with hand-written rules"
   ]
  },
  {
   "cell_type": "markdown",
   "metadata": {},
   "source": [
    "## Basic preprocessing"
   ]
  },
  {
   "cell_type": "code",
   "execution_count": 63,
   "metadata": {
    "tags": []
   },
   "outputs": [
    {
     "output_type": "stream",
     "name": "stdout",
     "text": "['go', 'to', 'the', 'kitchen', 'and', 'then', 'get', 'me', 'an', 'apple']\n"
    }
   ],
   "source": [
    "import string\n",
    "\n",
    "def preprocess_sentence(raw):\n",
    "    \"\"\" Basic string preprocessing \"\"\"\n",
    "    # Convert all to lower case\n",
    "    processed = raw.lower()\n",
    "\n",
    "    # Remove punctuation\n",
    "    processed = processed.translate(\n",
    "        str.maketrans(\"\", \"\", string.punctuation))\n",
    "    \n",
    "    # Split the string by space\n",
    "    processed = processed.split(\" \")\n",
    "\n",
    "    return processed\n",
    "\n",
    "\n",
    "input_sentence = \"Go to the kitchen, and then get me an apple.\"\n",
    "processed_sentence = preprocess_sentence(input_sentence)\n",
    "print(processed_sentence)"
   ]
  },
  {
   "cell_type": "markdown",
   "metadata": {},
   "source": [
    "## Keyword extraction"
   ]
  },
  {
   "cell_type": "code",
   "execution_count": 64,
   "metadata": {
    "tags": []
   },
   "outputs": [
    {
     "output_type": "stream",
     "name": "stdout",
     "text": "Input sentence:  Go to the kitchen, and then get me an apple.\nTarget object:   apple\nTarget location: kitchen\n"
    }
   ],
   "source": [
    "def extract_keywords(words, objects, locations):\n",
    "    \"\"\" \n",
    "    Extracts target objects and locations from a list of words \n",
    "    given lists of possible objects and locations\n",
    "    \"\"\"\n",
    "\n",
    "    target_object = None\n",
    "    target_location = None\n",
    "\n",
    "    # Extract object\n",
    "    for obj in objects:\n",
    "        if obj in words:\n",
    "            target_object = obj\n",
    "            break\n",
    "    \n",
    "    # Extract location\n",
    "    for loc in locations:\n",
    "        if loc in words:\n",
    "            target_location = loc\n",
    "            break\n",
    "\n",
    "    return target_object, target_location\n",
    "\n",
    "\n",
    "input_sentence = \"Go to the kitchen, and then get me an apple.\"\n",
    "objects = [\"apple\", \"water\", \"snacks\"]\n",
    "locations = [\"kitchen\", \"bedroom\", \"garage\"]\n",
    "\n",
    "words = preprocess_sentence(input_sentence)\n",
    "(tgt_obj, tgt_loc) = extract_keywords(words, objects, locations)\n",
    "print(\"Input sentence:  {}\".format(input_sentence))\n",
    "print(\"Target object:   {}\".format(tgt_obj))\n",
    "print(\"Target location: {}\".format(tgt_loc))"
   ]
  },
  {
   "cell_type": "markdown",
   "metadata": {},
   "source": [
    "## Test on Multiple Sentences"
   ]
  },
  {
   "cell_type": "code",
   "execution_count": 65,
   "metadata": {
    "tags": []
   },
   "outputs": [
    {
     "output_type": "stream",
     "name": "stdout",
     "text": "Input sentence:  Go to the kitchen, and then get me an apple\nTarget object:   apple\nTarget location: kitchen\n\nInput sentence:  Bring me a bottle of water\nTarget object:   water\nTarget location: None\n\nInput sentence:  Drive over to the garage\nTarget object:   None\nTarget location: garage\n\nInput sentence:  Find a snack in my bedroom\nTarget object:   None\nTarget location: bedroom\n\n"
    }
   ],
   "source": [
    "objects = [\"apple\", \"water\", \"snacks\"]\n",
    "locations = [\"kitchen\", \"bedroom\", \"garage\"]\n",
    "input_sentences = [\"Go to the kitchen, and then get me an apple\",\n",
    "                   \"Bring me a bottle of water\", \n",
    "                   \"Drive over to the garage\",\n",
    "                   \"Find a snack in my bedroom\"]\n",
    "\n",
    "for sentence in input_sentences:\n",
    "    words = preprocess_sentence(sentence)\n",
    "    (tgt_obj, tgt_loc) = extract_keywords(words, objects, locations)\n",
    "    print(\"Input sentence:  {}\".format(sentence))\n",
    "    print(\"Target object:   {}\".format(tgt_obj))\n",
    "    print(\"Target location: {}\".format(tgt_loc))\n",
    "    print(\"\")"
   ]
  },
  {
   "cell_type": "markdown",
   "metadata": {},
   "source": [
    "## String Processing with Regular Expressions"
   ]
  },
  {
   "cell_type": "code",
   "execution_count": 67,
   "metadata": {
    "tags": []
   },
   "outputs": [
    {
     "output_type": "stream",
     "name": "stdout",
     "text": "Input sentence:  Go to the kitchen, and then get me an apple\nTarget object:   apple\nTarget location: kitchen\n\nInput sentence:  Bring me a BOTTLE OFWATER!!!\nTarget object:   water\nTarget location: None\n\nInput sentence:  Drive over to the garage\nTarget object:   None\nTarget location: garage\n\nInput sentence:  Find a snack in my bedroom\nTarget object:   snack\nTarget location: bedroom\n\nInput sentence:  Look for some apples in the Kitchenette!\nTarget object:   apple\nTarget location: kitchen\n\nInput sentence:  Can you search for snacks in the living room?\nTarget object:   snack\nTarget location: living room\n\n"
    }
   ],
   "source": [
    "import re\n",
    "\n",
    "def extract_keywords_regexp(sentence, objects, locations):\n",
    "    \"\"\" \n",
    "    Extracts target objects and locations from a list of words \n",
    "    given lists of possible objects and locations.\n",
    "    This implementation uses regular expressions from the `re` module.\n",
    "    \"\"\"\n",
    "\n",
    "    target_object = None\n",
    "    target_location = None\n",
    "\n",
    "    # Extract object\n",
    "    for obj in objects:\n",
    "        pattern = \"(\" + obj + \")s*\"  # Includes plurals\n",
    "        result = re.search(pattern, sentence, re.IGNORECASE)\n",
    "        if result is not None:\n",
    "            target_object = obj\n",
    "    \n",
    "    # Extract location\n",
    "    for loc in locations:\n",
    "        result = re.search(loc, sentence, re.IGNORECASE)\n",
    "        if result is not None:\n",
    "            target_location = loc\n",
    "\n",
    "    return target_object, target_location\n",
    "\n",
    "\n",
    "objects = [\"apple\", \"water\", \"snack\"]\n",
    "locations = [\"kitchen\", \"bedroom\", \"garage\", \"living room\"]\n",
    "input_sentences = [\"Go to the kitchen, and then get me an apple\",\n",
    "                   \"Bring me a BOTTLE OFWATER!!!\", \n",
    "                   \"Drive over to the garage\",\n",
    "                   \"Find a snack in my bedroom\",\n",
    "                   \"Look for some apples in the Kitchenette!\", \n",
    "                   \"Can you search for snacks in the living room?\"]\n",
    "\n",
    "for sentence in input_sentences:\n",
    "    (tgt_obj, tgt_loc) = extract_keywords_regexp(sentence, objects, locations)\n",
    "    print(\"Input sentence:  {}\".format(sentence))\n",
    "    print(\"Target object:   {}\".format(tgt_obj))\n",
    "    print(\"Target location: {}\".format(tgt_loc))\n",
    "    print(\"\")"
   ]
  },
  {
   "cell_type": "code",
   "execution_count": null,
   "metadata": {},
   "outputs": [],
   "source": []
  }
 ],
 "metadata": {
  "language_info": {
   "codemirror_mode": {
    "name": "ipython",
    "version": 3
   },
   "file_extension": ".py",
   "mimetype": "text/x-python",
   "name": "python",
   "nbconvert_exporter": "python",
   "pygments_lexer": "ipython3",
   "version": "3.6.9-final"
  },
  "orig_nbformat": 2,
  "kernelspec": {
   "name": "python3",
   "display_name": "Python 3"
  }
 },
 "nbformat": 4,
 "nbformat_minor": 2
}